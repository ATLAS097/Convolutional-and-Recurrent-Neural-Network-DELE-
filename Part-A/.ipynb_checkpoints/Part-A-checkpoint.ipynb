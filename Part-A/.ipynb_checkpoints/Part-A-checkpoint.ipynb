{
 "cells": [
  {
   "cell_type": "markdown",
   "id": "f5207a7a",
   "metadata": {},
   "source": [
    "# Convolutional Neural Network (Predicting Vegetables)\n",
    "### Kaung Myat San (P2408655)\n",
    "### DAAA/FT/2B/22\n",
    "### Date: 6.5.2025\n",
    "---"
   ]
  },
  {
   "cell_type": "markdown",
   "id": "6942a9cd",
   "metadata": {},
   "source": [
    "## Background Research & Data Analysis\n",
    "---"
   ]
  },
  {
   "cell_type": "markdown",
   "id": "4c77ebc8",
   "metadata": {},
   "source": [
    "### Dataset Overview\n",
    "\n",
    "* **Image Size**: 224 × 224 pixels (3 color channels)\n",
    "* **Number of Classes**: **13**, but grouped into **11**\n",
    "* **Classes**:\n",
    "\n",
    "  * Bean\n",
    "  * Bitter Gourd\n",
    "  * **Bottle Gourd and Cucumber** *(grouped)*\n",
    "  * Brinjal *(Eggplant)*\n",
    "  * **Broccoli and Cauliflower** *(grouped)*\n",
    "  * Cabbage\n",
    "  * Capsicum *(Bell Pepper)*\n",
    "  * **Carrot and Radish** *(grouped)*\n",
    "  * Potato\n",
    "  * Pumpkin\n",
    "  * Tomato\n",
    "\n",
    "> **Note**: Some vegetables are grouped due to their **visual similarity**, especially when images are **grayscale**.\n",
    "\n",
    "---\n",
    "\n",
    "### Irregularities\n",
    "\n",
    "#### Test Folder\n",
    "\n",
    "* **Pumpkin** and **Tomato** folders seem to contain images of **each other's vegetables**.\n",
    "\n",
    "#### Train Folder\n",
    "\n",
    "* **Bean** folder:\n",
    "\n",
    "  * Files from `0001.jpg` to `0020.jpg`, `0033.jpg`, `0049.jpg` to `0050.jpg` appear to be **carrots**, not beans.\n"
   ]
  },
  {
   "cell_type": "markdown",
   "id": "857c99bc",
   "metadata": {},
   "source": [
    "###  Tasks to Complete\n",
    "\n",
    "1. **Correct Dataset Irregularities**\n",
    "\n",
    "   * Identify and move misclassified images to their correct folders.\n",
    "\n",
    "2. **Standardize Folder Names Across All Splits**\n",
    "\n",
    "   * Ensure consistent naming for all class folders in the `train`, `test`, and `validation` directories.\n",
    "   \n",
    "---\n"
   ]
  },
  {
   "cell_type": "markdown",
   "id": "2d44f900",
   "metadata": {},
   "source": [
    "## Setup\n",
    "---\n",
    "### Importing Modules"
   ]
  },
  {
   "cell_type": "code",
   "execution_count": null,
   "id": "67061515",
   "metadata": {},
   "outputs": [],
   "source": [
    "import os\n",
    "import numpy as np\n",
    "import pandas as pd\n",
    "from tqdm import tqdm\n",
    "import re\n",
    "import tensorflow as tf\n",
    "from tensorflow.keras.models import Sequential\n",
    "from tensorflow.keras.layers import Conv2D, MaxPooling2D, Flatten, Dense, Dropout\n",
    "from tensorflow.keras.preprocessing.image import load_img, img_to_array\n",
    "from tensorflow.keras.optimizers import Adam"
   ]
  },
  {
   "cell_type": "markdown",
   "id": "87f8ecb4",
   "metadata": {},
   "source": [
    "## Data Augmentation\n",
    "---"
   ]
  },
  {
   "cell_type": "code",
   "execution_count": null,
   "id": "83d7b8a4-8ff9-40ca-802e-425a5f038bf4",
   "metadata": {},
   "outputs": [],
   "source": [
    "# Define root and subfolders\n",
    "root_dir = 'Dataset_A'\n",
    "subfolders = ['train', 'test', 'validation']\n",
    "target_size = (101, 101)  # Change to (23, 23) if needed\n",
    "\n",
    "# Known issues\n",
    "mislabel_test = {'test/Pumpkin (purportedly)': 'Tomato', 'test/Tomato (ostensibly)': 'Pumpkin'}\n",
    "mislabel_train = {\n",
    "    'train/Bean': list(range(1, 21)) + [33, 49, 50]\n",
    "}  # 0001.jpg to 0020.jpg, 0033.jpg, 0049.jpg, 0050.jpg are carrots\n",
    "\n",
    "# Data storage\n",
    "data = []\n",
    "\n",
    "def correct_label(path, fname, folder):\n",
    "    folder_name = os.path.basename(os.path.dirname(path))\n",
    "\n",
    "    # Fix test folder mislabels\n",
    "    if folder == 'test' and folder_name in mislabel_test:\n",
    "        return mislabel_test[folder_name]\n",
    "\n",
    "    # Fix train/Bean mislabels\n",
    "    if folder == 'train' and folder_name == 'Bean':\n",
    "        match = re.match(r'(\\d+)', fname)\n",
    "        if match:\n",
    "            idx = int(match.group(1))\n",
    "            if idx in mislabel_train['train/Bean']:\n",
    "                return 'Carrot'\n",
    "\n",
    "    # Default: use folder name as label\n",
    "    return folder_name\n",
    "\n",
    "# Traverse the dataset\n",
    "for split in subfolders:\n",
    "    split_path = os.path.join(root_dir, split)\n",
    "    for class_folder in os.listdir(split_path):\n",
    "        class_path = os.path.join(split_path, class_folder)\n",
    "        if not os.path.isdir(class_path):\n",
    "            continue\n",
    "        for fname in tqdm(os.listdir(class_path), desc=f\"Processing {split}/{class_folder}\"):\n",
    "            img_path = os.path.join(class_path, fname)\n",
    "            try:\n",
    "                # Load in grayscale and resize\n",
    "                img = load_img(img_path, color_mode='grayscale', target_size=target_size)\n",
    "                img_array = img_to_array(img)  # shape: (101, 101, 1)\n",
    "                img_array = img_array / 255.0  # normalize to 0–1\n",
    "                img_array = np.expand_dims(img_array, axis=0)  # shape: (1, 101, 101, 1)\n",
    "\n",
    "                label = correct_label(img_path, fname, split)\n",
    "                data.append({'image': img_array, 'label': label, 'split': split})\n",
    "            except Exception as e:\n",
    "                print(f\"Error processing {img_path}: {e}\")\n",
    "\n",
    "# Convert to DataFrame\n",
    "df = pd.DataFrame(data)"
   ]
  },
  {
   "cell_type": "code",
   "execution_count": null,
   "id": "b9254017-c282-44ae-9925-6dc2598784d4",
   "metadata": {},
   "outputs": [],
   "source": [
    "df.head()"
   ]
  },
  {
   "cell_type": "code",
   "execution_count": null,
   "id": "17f248bf-d51a-455a-b367-f03b4d7858ae",
   "metadata": {},
   "outputs": [],
   "source": []
  }
 ],
 "metadata": {
  "kernelspec": {
   "display_name": "Python 3 (ipykernel)",
   "language": "python",
   "name": "python3"
  },
  "language_info": {
   "codemirror_mode": {
    "name": "ipython",
    "version": 3
   },
   "file_extension": ".py",
   "mimetype": "text/x-python",
   "name": "python",
   "nbconvert_exporter": "python",
   "pygments_lexer": "ipython3",
   "version": "3.8.20"
  }
 },
 "nbformat": 4,
 "nbformat_minor": 5
}
